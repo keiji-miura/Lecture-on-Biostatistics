{
 "cells": [
  {
   "cell_type": "markdown",
   "id": "22b17ca5-b13c-4fea-8ea7-d816666ed11b",
   "metadata": {},
   "source": [
    "# 0. Pythonの特徴\n",
    "* インタープリタ形式の高級言語で、易しい（C++などの低級な言語と比べて）\n",
    "* 制御対象が広いため（深層学習、Webアプリ等）、産業界での利用者も多く、ライブラリや解説が充実\n",
    "* [（参考動画）Pythonのおすすめの参考書](https://www.youtube.com/watch?v=kUysq_MTMOA)\n",
    "\n",
    "[＜持ち込みPCにインストールする場合は、初心者ならAnacondaがおすすめ＞](https://www.python.jp/install/anaconda/windows/install.html) ＊常にAnaconda NavigatorからJupyterLab等を開始すれば良い"
   ]
  },
  {
   "cell_type": "markdown",
   "id": "b63a54d1-133a-4520-a2c6-e17db821823f",
   "metadata": {},
   "source": [
    "# 1. Pythonの基本文法　～まず体験してみよう！～\n",
    "クリックして選択したセルの命令を、▶ボタン（または**Shift+Enter**）で実行します。"
   ]
  },
  {
   "cell_type": "code",
   "execution_count": 1,
   "id": "fd43c720-aa77-440f-b5f8-ef833a0a9300",
   "metadata": {
    "tags": []
   },
   "outputs": [
    {
     "name": "stdout",
     "output_type": "stream",
     "text": [
      "Hello, world!\n"
     ]
    }
   ],
   "source": [
    "print(\"Hello, world!\")"
   ]
  },
  {
   "cell_type": "code",
   "execution_count": 2,
   "id": "790bd343-cd29-4946-8766-39791e524752",
   "metadata": {
    "tags": []
   },
   "outputs": [
    {
     "data": {
      "text/plain": [
       "2"
      ]
     },
     "execution_count": 2,
     "metadata": {},
     "output_type": "execute_result"
    }
   ],
   "source": [
    "1+1"
   ]
  },
  {
   "cell_type": "code",
   "execution_count": 3,
   "id": "1d215a3c-06df-4527-ad7d-f814290b9284",
   "metadata": {
    "tags": []
   },
   "outputs": [
    {
     "data": {
      "text/plain": [
       "6.0"
      ]
     },
     "execution_count": 3,
     "metadata": {},
     "output_type": "execute_result"
    }
   ],
   "source": [
    "3 * 10 / (7-2)"
   ]
  },
  {
   "cell_type": "code",
   "execution_count": 4,
   "id": "4b28338e-8bcd-4eda-9718-6f92e0b03c58",
   "metadata": {
    "tags": []
   },
   "outputs": [
    {
     "name": "stdout",
     "output_type": "stream",
     "text": [
      "3\n"
     ]
    }
   ],
   "source": [
    "a = 3\n",
    "print(a)"
   ]
  },
  {
   "cell_type": "code",
   "execution_count": 5,
   "id": "68095152-e0da-4656-9458-53fc1f2d580b",
   "metadata": {
    "tags": []
   },
   "outputs": [
    {
     "name": "stdout",
     "output_type": "stream",
     "text": [
      "A happy new year 2025\n"
     ]
    }
   ],
   "source": [
    "y = 2025\n",
    "print(\"A happy new year\", y)"
   ]
  },
  {
   "cell_type": "code",
   "execution_count": 6,
   "id": "c631bf3f-af28-47dd-8591-8fbcb8be21d3",
   "metadata": {
    "tags": []
   },
   "outputs": [
    {
     "name": "stdout",
     "output_type": "stream",
     "text": [
      "6\n"
     ]
    }
   ],
   "source": [
    "a = 3\n",
    "a = 5\n",
    "b = 1\n",
    "print(a+b)"
   ]
  },
  {
   "cell_type": "code",
   "execution_count": 7,
   "id": "f62f7b07-50ee-4621-9505-95f3a2ece1da",
   "metadata": {
    "tags": []
   },
   "outputs": [
    {
     "name": "stdout",
     "output_type": "stream",
     "text": [
      "50\n",
      "55\n",
      "70\n",
      "65\n",
      "80\n"
     ]
    }
   ],
   "source": [
    "scores = [50, 55, 70, 65, 80]   # リスト型のデータを入力\n",
    "print(scores[0])\n",
    "print(scores[1])\n",
    "print(scores[2])\n",
    "print(scores[3])\n",
    "print(scores[4])"
   ]
  },
  {
   "cell_type": "code",
   "execution_count": 8,
   "id": "b2bf5fd8-4e9b-4d85-b4ae-9c68d73ae125",
   "metadata": {
    "tags": []
   },
   "outputs": [
    {
     "data": {
      "text/plain": [
       "5"
      ]
     },
     "execution_count": 8,
     "metadata": {},
     "output_type": "execute_result"
    }
   ],
   "source": [
    "len(scores)  # len()はリストの長さを返す関数"
   ]
  },
  {
   "cell_type": "code",
   "execution_count": 9,
   "id": "6a9937f2-a26b-4482-bf2b-1434276815f1",
   "metadata": {
    "tags": []
   },
   "outputs": [
    {
     "name": "stdout",
     "output_type": "stream",
     "text": [
      "[100, 55, 70, 65, 80]\n"
     ]
    }
   ],
   "source": [
    "scores[0] = 100\n",
    "print(scores)"
   ]
  },
  {
   "cell_type": "code",
   "execution_count": 10,
   "id": "0bf1060c-abbe-4891-841f-630a2143ce1b",
   "metadata": {
    "tags": []
   },
   "outputs": [
    {
     "name": "stdout",
     "output_type": "stream",
     "text": [
      "100\n",
      "55\n",
      "70\n",
      "65\n",
      "80\n"
     ]
    }
   ],
   "source": [
    "for i in [0, 1, 2, 3, 4]:\n",
    "    print(scores[i])"
   ]
  },
  {
   "cell_type": "code",
   "execution_count": 11,
   "id": "1e493e81-089e-46e6-9a9e-c337dad632ec",
   "metadata": {
    "tags": []
   },
   "outputs": [
    {
     "name": "stdout",
     "output_type": "stream",
     "text": [
      "100\n",
      "55\n",
      "70\n",
      "65\n",
      "80\n"
     ]
    }
   ],
   "source": [
    "for i in range(5):\n",
    "    print(scores[i])"
   ]
  },
  {
   "cell_type": "code",
   "execution_count": 12,
   "id": "d399362f-6d8d-4c8c-85bf-964fc9905eda",
   "metadata": {
    "tags": []
   },
   "outputs": [
    {
     "name": "stdout",
     "output_type": "stream",
     "text": [
      "ドラえもんはまだ誕生していません。\n"
     ]
    }
   ],
   "source": [
    "year = 2025\n",
    "\n",
    "if year < 2112:\n",
    "    print(\"ドラえもんはまだ誕生していません。\")\n",
    "else:\n",
    "    print(\"ドラえもんはもう誕生しています。\")"
   ]
  },
  {
   "cell_type": "code",
   "execution_count": 13,
   "id": "2f519ff4-4815-4625-970d-f6585c384ea9",
   "metadata": {
    "tags": []
   },
   "outputs": [
    {
     "data": {
      "text/plain": [
       "3.141592653589793"
      ]
     },
     "execution_count": 13,
     "metadata": {},
     "output_type": "execute_result"
    }
   ],
   "source": [
    "import math  # mathモジュールを読み込む\n",
    "math.pi"
   ]
  },
  {
   "cell_type": "code",
   "execution_count": 14,
   "id": "e538d01b-89c4-4015-bb85-5b44505fdeb1",
   "metadata": {
    "tags": []
   },
   "outputs": [
    {
     "data": {
      "text/plain": [
       "'3.141593'"
      ]
     },
     "execution_count": 14,
     "metadata": {},
     "output_type": "execute_result"
    }
   ],
   "source": [
    "format(math.pi, '.6f')  #小数点以下6位"
   ]
  },
  {
   "cell_type": "code",
   "execution_count": 15,
   "id": "52d94201-5bed-4c43-9dcf-3a4f2a1fdd3c",
   "metadata": {
    "tags": []
   },
   "outputs": [
    {
     "data": {
      "text/plain": [
       "-1.0"
      ]
     },
     "execution_count": 15,
     "metadata": {},
     "output_type": "execute_result"
    }
   ],
   "source": [
    "math.cos(math.pi)  # cos(π)の値を求める"
   ]
  },
  {
   "cell_type": "markdown",
   "id": "623959ba-01bf-4afc-9f1e-3595ee356f7e",
   "metadata": {
    "tags": []
   },
   "source": [
    "### (参考) Markdownとは？\n",
    "Cellのモードとして**Code**ではなく**Markdown**を選択することで、レポートのように文章をまとめることもできます。\n",
    "\n",
    "##### Markdownの文法まとめサイト：\n",
    "* [Python初心者向けJupyter NotebookでセルにMarkdown記法で入力する方法](https://tonari-it.com/python-jupyter-notebook-markdown/)  \n",
    "* [Markdown解説](https://home.hirosaki-u.ac.jp/jupyter/markdown/)  \n",
    "* [Jupyter Notebook の操作：Markdown](https://rinsaka.com/python/intro/05-01-markdown.html)  \n",
    "* [図解！Markdown記法の書き方を徹底解説](https://ai-inter1.com/markdown/)  \n",
    "* [Markdown記法 サンプル集](https://qiita.com/tbpgr/items/989c6badefff69377da7)  \n",
    "* [Jupyter NotebookでMarkdown作成](https://qiita.com/ttabata/items/5a4fb5949d196ec46884)\n",
    "\n",
    "\n",
    "\n"
   ]
  },
  {
   "cell_type": "markdown",
   "id": "a00f187e-274a-407e-af2f-83b62eb99ce7",
   "metadata": {},
   "source": [
    "# 2. Pythonの組み込みデータ型\n",
    "**int / float / bool / リスト**  \n",
    "各データ型を１つ１つ理解することが、（オブジェクト指向言語である）Pythonを理解することになります。"
   ]
  },
  {
   "cell_type": "markdown",
   "id": "1b57aa10-5c5b-4b98-a851-e0dcdaa5c1a6",
   "metadata": {},
   "source": [
    "## 2.1 int型（整数を表すデータ）"
   ]
  },
  {
   "cell_type": "code",
   "execution_count": 16,
   "id": "dff4f0e2-61dc-4329-91e1-b5e5ade6bd50",
   "metadata": {
    "tags": []
   },
   "outputs": [
    {
     "data": {
      "text/plain": [
       "17"
      ]
     },
     "execution_count": 16,
     "metadata": {},
     "output_type": "execute_result"
    }
   ],
   "source": [
    "2 + 3 * 5   # 掛け算が優先"
   ]
  },
  {
   "cell_type": "code",
   "execution_count": 17,
   "id": "2d84630a-4b00-480b-afa4-20eab2cd6ece",
   "metadata": {
    "tags": []
   },
   "outputs": [
    {
     "data": {
      "text/plain": [
       "8"
      ]
     },
     "execution_count": 17,
     "metadata": {},
     "output_type": "execute_result"
    }
   ],
   "source": [
    "2 ** 3    # べき乗"
   ]
  },
  {
   "cell_type": "code",
   "execution_count": 18,
   "id": "3db79a63-8df3-4fe3-aa97-be87db76942e",
   "metadata": {
    "tags": []
   },
   "outputs": [
    {
     "data": {
      "text/plain": [
       "2"
      ]
     },
     "execution_count": 18,
     "metadata": {},
     "output_type": "execute_result"
    }
   ],
   "source": [
    "7 // 3    # 商"
   ]
  },
  {
   "cell_type": "code",
   "execution_count": 19,
   "id": "bd0d0cd7-8d51-4f5f-a4c8-c5bc045913cc",
   "metadata": {
    "tags": []
   },
   "outputs": [
    {
     "data": {
      "text/plain": [
       "1"
      ]
     },
     "execution_count": 19,
     "metadata": {},
     "output_type": "execute_result"
    }
   ],
   "source": [
    "7 % 3     # 余り"
   ]
  },
  {
   "cell_type": "code",
   "execution_count": 20,
   "id": "27e56597-fda5-4cd0-811a-e8ea8223f920",
   "metadata": {
    "tags": []
   },
   "outputs": [
    {
     "data": {
      "text/plain": [
       "12"
      ]
     },
     "execution_count": 20,
     "metadata": {},
     "output_type": "execute_result"
    }
   ],
   "source": [
    "a = 10\n",
    "a = a + 2\n",
    "a"
   ]
  },
  {
   "cell_type": "code",
   "execution_count": 21,
   "id": "f7ac9423-8a40-4a38-8281-72e1b325edcd",
   "metadata": {
    "tags": []
   },
   "outputs": [
    {
     "data": {
      "text/plain": [
       "12"
      ]
     },
     "execution_count": 21,
     "metadata": {},
     "output_type": "execute_result"
    }
   ],
   "source": [
    "a = 10\n",
    "a += 2    # 短縮表現\n",
    "a"
   ]
  },
  {
   "cell_type": "code",
   "execution_count": 22,
   "id": "ab791c99-b9cd-4ee9-9fc8-e8033953698a",
   "metadata": {
    "tags": []
   },
   "outputs": [
    {
     "data": {
      "text/plain": [
       "int"
      ]
     },
     "execution_count": 22,
     "metadata": {},
     "output_type": "execute_result"
    }
   ],
   "source": [
    "type(a)   # type関数はデータの型を返す"
   ]
  },
  {
   "cell_type": "code",
   "execution_count": 23,
   "id": "644906e3-6c7a-40ef-b66b-72df641b8a5b",
   "metadata": {
    "tags": []
   },
   "outputs": [
    {
     "data": {
      "text/plain": [
       "int"
      ]
     },
     "execution_count": 23,
     "metadata": {},
     "output_type": "execute_result"
    }
   ],
   "source": [
    "type(2)"
   ]
  },
  {
   "cell_type": "code",
   "execution_count": 24,
   "id": "dc071e38-a946-4f4c-a88d-bc2fdafff90e",
   "metadata": {
    "tags": []
   },
   "outputs": [
    {
     "data": {
      "text/plain": [
       "float"
      ]
     },
     "execution_count": 24,
     "metadata": {},
     "output_type": "execute_result"
    }
   ],
   "source": [
    "type(2.1)"
   ]
  },
  {
   "cell_type": "code",
   "execution_count": 25,
   "id": "50cc0372-8b90-4f7f-b819-ddb178fcd201",
   "metadata": {
    "tags": []
   },
   "outputs": [
    {
     "data": {
      "text/plain": [
       "str"
      ]
     },
     "execution_count": 25,
     "metadata": {},
     "output_type": "execute_result"
    }
   ],
   "source": [
    "type(\"hello\")"
   ]
  },
  {
   "cell_type": "code",
   "execution_count": 26,
   "id": "5cf97e27-1e98-4471-b3d9-b8415d6be0b2",
   "metadata": {
    "tags": []
   },
   "outputs": [
    {
     "data": {
      "text/plain": [
       "list"
      ]
     },
     "execution_count": 26,
     "metadata": {},
     "output_type": "execute_result"
    }
   ],
   "source": [
    "type([50, 55, 43])"
   ]
  },
  {
   "cell_type": "markdown",
   "id": "23c72641-e5bb-4c65-a9f5-d2d87f1fc889",
   "metadata": {},
   "source": [
    "## 2.2 float型（小数点）"
   ]
  },
  {
   "cell_type": "code",
   "execution_count": 27,
   "id": "8bde89aa-fed8-4f16-835b-01fb32df89bc",
   "metadata": {
    "tags": []
   },
   "outputs": [
    {
     "data": {
      "text/plain": [
       "3.0"
      ]
     },
     "execution_count": 27,
     "metadata": {},
     "output_type": "execute_result"
    }
   ],
   "source": [
    "(8 - 2)  / 2"
   ]
  },
  {
   "cell_type": "code",
   "execution_count": 28,
   "id": "4cabd07d-b08a-43c1-bbbf-7413e4e912cb",
   "metadata": {
    "tags": []
   },
   "outputs": [
    {
     "data": {
      "text/plain": [
       "float"
      ]
     },
     "execution_count": 28,
     "metadata": {},
     "output_type": "execute_result"
    }
   ],
   "source": [
    "type((8 - 2)  / 2)   # int同士であっても、割り算すると、floatへと型変換される"
   ]
  },
  {
   "cell_type": "code",
   "execution_count": 29,
   "id": "2a37203b-bf46-4166-b934-43292611282a",
   "metadata": {
    "tags": []
   },
   "outputs": [
    {
     "data": {
      "text/plain": [
       "float"
      ]
     },
     "execution_count": 29,
     "metadata": {},
     "output_type": "execute_result"
    }
   ],
   "source": [
    "type(0.0)"
   ]
  },
  {
   "cell_type": "code",
   "execution_count": 30,
   "id": "f26d413c-26cc-4202-b195-136b4647b542",
   "metadata": {
    "tags": []
   },
   "outputs": [
    {
     "data": {
      "text/plain": [
       "int"
      ]
     },
     "execution_count": 30,
     "metadata": {},
     "output_type": "execute_result"
    }
   ],
   "source": [
    "type(0)"
   ]
  },
  {
   "cell_type": "code",
   "execution_count": 31,
   "id": "06c1c4d8-2a27-454d-8850-c874d302efd5",
   "metadata": {
    "tags": []
   },
   "outputs": [
    {
     "name": "stdout",
     "output_type": "stream",
     "text": [
      "3.0\n"
     ]
    },
    {
     "data": {
      "text/plain": [
       "float"
      ]
     },
     "execution_count": 31,
     "metadata": {},
     "output_type": "execute_result"
    }
   ],
   "source": [
    "a = float(3)   # float関数によって、強制的にfloatへ型変換できる\n",
    "print(a)\n",
    "type(a)"
   ]
  },
  {
   "cell_type": "code",
   "execution_count": 32,
   "id": "85282535-a5e4-4080-a332-831501a3cec5",
   "metadata": {
    "tags": []
   },
   "outputs": [
    {
     "name": "stdout",
     "output_type": "stream",
     "text": [
      "0\n"
     ]
    },
    {
     "data": {
      "text/plain": [
       "int"
      ]
     },
     "execution_count": 32,
     "metadata": {},
     "output_type": "execute_result"
    }
   ],
   "source": [
    "a = int(0.0)\n",
    "print(a)\n",
    "type(a)"
   ]
  },
  {
   "cell_type": "code",
   "execution_count": 33,
   "id": "4b391970-7442-4145-aabf-b3967942abd0",
   "metadata": {
    "tags": []
   },
   "outputs": [
    {
     "name": "stdout",
     "output_type": "stream",
     "text": [
      "3\n"
     ]
    },
    {
     "data": {
      "text/plain": [
       "int"
      ]
     },
     "execution_count": 33,
     "metadata": {},
     "output_type": "execute_result"
    }
   ],
   "source": [
    "a = int(3.14)   # 切り捨てによって、intに型変換する\n",
    "print(a)\n",
    "type(a)"
   ]
  },
  {
   "cell_type": "code",
   "execution_count": 34,
   "id": "8ca1bc76-a392-4a40-abaf-3cb5e49ebfeb",
   "metadata": {
    "tags": []
   },
   "outputs": [
    {
     "name": "stdout",
     "output_type": "stream",
     "text": [
      "4.5\n"
     ]
    },
    {
     "data": {
      "text/plain": [
       "float"
      ]
     },
     "execution_count": 34,
     "metadata": {},
     "output_type": "execute_result"
    }
   ],
   "source": [
    "a = 3 + 1.5    # int型とfloat型を足すとfloat型となる\n",
    "print(a)\n",
    "type(a)"
   ]
  },
  {
   "cell_type": "markdown",
   "id": "ffa432f0-f910-4873-8780-2cea1dbb3710",
   "metadata": {},
   "source": [
    "### (参考) 数値の指数表現\n",
    "計算結果が指数表現されることも多いため、知っておくと良い"
   ]
  },
  {
   "cell_type": "code",
   "execution_count": 35,
   "id": "76fad9cf-37fb-4104-9654-2c76b44ea6d2",
   "metadata": {
    "tags": []
   },
   "outputs": [
    {
     "name": "stdout",
     "output_type": "stream",
     "text": [
      "12.0\n",
      "1.2\n",
      "0.12\n",
      "0.012\n"
     ]
    }
   ],
   "source": [
    "print(1.2e1) # = 1.2 * 10**1\n",
    "print(1.2e0) # = 1.2 * 10**0\n",
    "print(1.2e-1) # = 1.2 * 10**-1\n",
    "print(1.2e-2) # = 1.2 * 10**-2"
   ]
  },
  {
   "cell_type": "markdown",
   "id": "15d4571b-758e-4ee8-9074-ceeb4ea4dde9",
   "metadata": {},
   "source": [
    "## 2.3 bool型（真偽値）"
   ]
  },
  {
   "cell_type": "code",
   "execution_count": 36,
   "id": "5a95c14e-1864-4266-b396-45bc1214ccd7",
   "metadata": {
    "tags": []
   },
   "outputs": [
    {
     "name": "stdout",
     "output_type": "stream",
     "text": [
      "True\n"
     ]
    },
    {
     "data": {
      "text/plain": [
       "bool"
      ]
     },
     "execution_count": 36,
     "metadata": {},
     "output_type": "execute_result"
    }
   ],
   "source": [
    "a = True\n",
    "print(a)\n",
    "type(a)"
   ]
  },
  {
   "cell_type": "code",
   "execution_count": 37,
   "id": "c3ec71ac-34ec-4d75-bb02-d2ffb5caab49",
   "metadata": {
    "tags": []
   },
   "outputs": [
    {
     "data": {
      "text/plain": [
       "True"
      ]
     },
     "execution_count": 37,
     "metadata": {},
     "output_type": "execute_result"
    }
   ],
   "source": [
    "(3+2) == (6-1)"
   ]
  },
  {
   "cell_type": "code",
   "execution_count": 38,
   "id": "3760c7e7-ef97-41b5-ba95-bcfcf55e1784",
   "metadata": {
    "tags": []
   },
   "outputs": [
    {
     "data": {
      "text/plain": [
       "False"
      ]
     },
     "execution_count": 38,
     "metadata": {},
     "output_type": "execute_result"
    }
   ],
   "source": [
    "1/3 == 0.33333"
   ]
  },
  {
   "cell_type": "markdown",
   "id": "1eda4fb2-5317-4a84-b5b4-a7e6cec12d45",
   "metadata": {},
   "source": [
    "## 2.4 リスト型"
   ]
  },
  {
   "cell_type": "code",
   "execution_count": 57,
   "id": "bfdb8640-0205-41ad-be89-2236ec28a0ba",
   "metadata": {
    "tags": []
   },
   "outputs": [
    {
     "name": "stdout",
     "output_type": "stream",
     "text": [
      "50\n",
      "55\n",
      "70\n",
      "65\n",
      "80\n",
      "\n",
      "80\n",
      "65\n",
      "70\n",
      "55\n",
      "50\n"
     ]
    }
   ],
   "source": [
    "scores = [50, 55, 70, 65, 80]\n",
    "\n",
    "print(scores[0]) # 配列の参照\n",
    "print(scores[1])\n",
    "print(scores[2])\n",
    "print(scores[3])\n",
    "print(scores[4])\n",
    "\n",
    "print('')\n",
    "\n",
    "print(scores[-1]) # マイナスを付けると、末尾から数えた順番で参照できる\n",
    "print(scores[-2])\n",
    "print(scores[-3])\n",
    "print(scores[-4])\n",
    "print(scores[-5])"
   ]
  },
  {
   "cell_type": "code",
   "execution_count": 58,
   "id": "bab24ec8-1b8e-407e-bba2-13d9f928f6ec",
   "metadata": {
    "tags": []
   },
   "outputs": [
    {
     "data": {
      "text/plain": [
       "[50, 55, 71, 65, 80]"
      ]
     },
     "execution_count": 58,
     "metadata": {},
     "output_type": "execute_result"
    }
   ],
   "source": [
    "scores[2] = 71\n",
    "scores"
   ]
  },
  {
   "cell_type": "code",
   "execution_count": 59,
   "id": "c673752f-1e0a-4529-8caa-38d7bed7980b",
   "metadata": {
    "tags": []
   },
   "outputs": [
    {
     "data": {
      "text/plain": [
       "[50, 55, 71, 65, 80, 100]"
      ]
     },
     "execution_count": 59,
     "metadata": {},
     "output_type": "execute_result"
    }
   ],
   "source": [
    "scores.append(100) # 末尾に付け加える\n",
    "scores"
   ]
  },
  {
   "cell_type": "code",
   "execution_count": 60,
   "id": "daab9b1a-825f-41b7-93bc-d2f19fcbe9bf",
   "metadata": {
    "tags": []
   },
   "outputs": [
    {
     "name": "stdout",
     "output_type": "stream",
     "text": [
      "100\n"
     ]
    },
    {
     "data": {
      "text/plain": [
       "[50, 55, 71, 65, 80]"
      ]
     },
     "execution_count": 60,
     "metadata": {},
     "output_type": "execute_result"
    }
   ],
   "source": [
    "last = scores.pop() # 末尾から除く\n",
    "print(last)\n",
    "scores"
   ]
  },
  {
   "cell_type": "code",
   "execution_count": 61,
   "id": "8638598c-79a2-47b1-9d31-8b327b973c96",
   "metadata": {
    "tags": []
   },
   "outputs": [
    {
     "data": {
      "text/plain": [
       "[80, 65, 71, 55, 50]"
      ]
     },
     "execution_count": 61,
     "metadata": {},
     "output_type": "execute_result"
    }
   ],
   "source": [
    "scores.reverse() # 順序を逆にする\n",
    "scores"
   ]
  },
  {
   "cell_type": "code",
   "execution_count": 62,
   "id": "03d8af0c-110e-4df4-b184-14c9c8921b04",
   "metadata": {
    "tags": []
   },
   "outputs": [
    {
     "data": {
      "text/plain": [
       "3"
      ]
     },
     "execution_count": 62,
     "metadata": {},
     "output_type": "execute_result"
    }
   ],
   "source": [
    "scores.index(55) # 55のある位置を検索"
   ]
  },
  {
   "cell_type": "code",
   "execution_count": 63,
   "id": "803a9e4a-a32a-4b1c-b61d-c7e061e3ca15",
   "metadata": {
    "tags": []
   },
   "outputs": [
    {
     "data": {
      "text/plain": [
       "[80, 65, 55, 50]"
      ]
     },
     "execution_count": 63,
     "metadata": {},
     "output_type": "execute_result"
    }
   ],
   "source": [
    "del scores[2]   # 削除する\n",
    "scores"
   ]
  },
  {
   "cell_type": "code",
   "execution_count": 64,
   "id": "4aeddda5-5937-46bd-a1c8-229e2f9ccc5b",
   "metadata": {
    "tags": []
   },
   "outputs": [
    {
     "data": {
      "text/plain": [
       "True"
      ]
     },
     "execution_count": 64,
     "metadata": {},
     "output_type": "execute_result"
    }
   ],
   "source": [
    "65 in scores         # 65は含まれるか？"
   ]
  },
  {
   "cell_type": "code",
   "execution_count": 65,
   "id": "1e26d09b-4d41-4f3a-a7c4-f3fb8c8944e6",
   "metadata": {
    "tags": []
   },
   "outputs": [
    {
     "data": {
      "text/plain": [
       "[80, 65, 55, 50, 10, 20, 30]"
      ]
     },
     "execution_count": 65,
     "metadata": {},
     "output_type": "execute_result"
    }
   ],
   "source": [
    "scores2 = [10, 20, 30]\n",
    "scores + scores2    # 連結する"
   ]
  },
  {
   "cell_type": "code",
   "execution_count": 66,
   "id": "9384de89-29d8-4f8a-bb13-bf0d8f2d4900",
   "metadata": {
    "tags": []
   },
   "outputs": [
    {
     "data": {
      "text/plain": [
       "7"
      ]
     },
     "execution_count": 66,
     "metadata": {},
     "output_type": "execute_result"
    }
   ],
   "source": [
    "len(scores + scores2)  # 配列の長さ"
   ]
  },
  {
   "cell_type": "code",
   "execution_count": 67,
   "id": "f2886ff4-4f09-4b30-ad87-b9606ca58d3f",
   "metadata": {
    "tags": []
   },
   "outputs": [
    {
     "data": {
      "text/plain": [
       "[10, 20, 30, 50, 55, 65, 80]"
      ]
     },
     "execution_count": 67,
     "metadata": {},
     "output_type": "execute_result"
    }
   ],
   "source": [
    "sorted(scores + scores2)  # 小さい順に並べ替える"
   ]
  },
  {
   "cell_type": "markdown",
   "id": "13950f0d-724c-46ac-9225-1d9c6414344b",
   "metadata": {},
   "source": [
    "# 3. Pythonによる作図　～最小二乗法の図を美しく仕上げよう～\n",
    "[Matplotlibに2通りある描画の流儀](https://moromisenpy.com/python_plot/)のうち、難しいオブジェクト指向（ax.~）は使わない、易しい方の流儀で統一します。"
   ]
  },
  {
   "cell_type": "markdown",
   "id": "d40f144d-e5c6-482c-b4e2-29a30c592eba",
   "metadata": {},
   "source": [
    "## 基本のグラフ（折れ線グラフ、散布図、ヒストグラム）"
   ]
  },
  {
   "cell_type": "code",
   "execution_count": 98,
   "id": "0691002e-051d-44f4-9844-826111fd587f",
   "metadata": {},
   "outputs": [
    {
     "data": {
      "text/plain": [
       "[<matplotlib.lines.Line2D at 0x15f152002d0>]"
      ]
     },
     "execution_count": 98,
     "metadata": {},
     "output_type": "execute_result"
    },
    {
     "data": {
      "image/png": "[encoded data removed]",
      "text/plain": [
       "<Figure size 640x480 with 1 Axes>"
      ]
     },
     "metadata": {},
     "output_type": "display_data"
    }
   ],
   "source": [
    "import matplotlib.pyplot as plt\n",
    "\n",
    "# 折れ線グラフ\n",
    "x = [1, 2, 3]\n",
    "y = [3, 1, 2]\n",
    "plt.plot(x, y)"
   ]
  },
  {
   "cell_type": "code",
   "execution_count": 99,
   "id": "89d9f443-8b32-475c-b47f-e219670bcb53",
   "metadata": {},
   "outputs": [
    {
     "data": {
      "text/plain": [
       "<matplotlib.collections.PathCollection at 0x15f1741a210>"
      ]
     },
     "execution_count": 99,
     "metadata": {},
     "output_type": "execute_result"
    },
    {
     "data": {
      "image/png": "[encoded data removed]",
      "text/plain": [
       "<Figure size 640x480 with 1 Axes>"
      ]
     },
     "metadata": {},
     "output_type": "display_data"
    }
   ],
   "source": [
    "# 散布図\n",
    "x = [1, 2, 3]\n",
    "y = [3, 1, 2]\n",
    "plt.scatter(x, y)"
   ]
  },
  {
   "cell_type": "code",
   "execution_count": 100,
   "id": "eb14959c-8f9d-4c0c-9d6b-aa2f72aada68",
   "metadata": {},
   "outputs": [
    {
     "data": {
      "text/plain": [
       "(array([1., 2., 1., 2., 1.]),\n",
       " array([0.5, 1.5, 2.5, 3.5, 4.5, 5.5]),\n",
       " <BarContainer object of 5 artists>)"
      ]
     },
     "execution_count": 100,
     "metadata": {},
     "output_type": "execute_result"
    },
    {
     "data": {
      "image/png": "[encoded data removed]",
      "text/plain": [
       "<Figure size 640x480 with 1 Axes>"
      ]
     },
     "metadata": {},
     "output_type": "display_data"
    }
   ],
   "source": [
    "# ヒストグラム\n",
    "z = [1, 2, 2, 3, 4, 4, 5]\n",
    "plt.hist(z, range=(0.5, 5.5), bins=5)"
   ]
  }
 ],
 "metadata": {
  "kernelspec": {
   "display_name": "Python 3 (ipykernel)",
   "language": "python",
   "name": "python3"
  },
  "language_info": {
   "codemirror_mode": {
    "name": "ipython",
    "version": 3
   },
   "file_extension": ".py",
   "mimetype": "text/x-python",
   "name": "python",
   "nbconvert_exporter": "python",
   "pygments_lexer": "ipython3",
   "version": "3.11.11"
  }
 },
 "nbformat": 4,
 "nbformat_minor": 5
}
