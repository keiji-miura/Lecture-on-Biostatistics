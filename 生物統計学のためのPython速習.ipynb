{
 "cells": [
  {
   "cell_type": "markdown",
   "id": "22b17ca5-b13c-4fea-8ea7-d816666ed11b",
   "metadata": {},
   "source": [
    "# 0. Pythonの特徴\n",
    "* インタープリタ形式の高級言語で、易しい（C++などの低級な言語と比べて）\n",
    "* 制御対象が広いため（深層学習、Webアプリ等）、産業界での利用者も多く、ライブラリや解説が充実\n",
    "* [（参考動画）Pythonのおすすめの参考書](https://www.youtube.com/watch?v=kUysq_MTMOA)\n",
    "\n",
    "[＜持ち込みPCにインストールする場合は、初心者ならAnacondaがおすすめ＞](https://www.python.jp/install/anaconda/windows/install.html) ＊常にAnaconda NavigatorからJupyterLab等を開始すれば良い"
   ]
  },
  {
   "cell_type": "markdown",
   "id": "b63a54d1-133a-4520-a2c6-e17db821823f",
   "metadata": {},
   "source": [
    "# 1. Pythonの基本文法　～まず体験してみよう！～\n",
    "クリックして選択したセルの命令を、▶ボタン（または**Shift+Enter**）で実行します。"
   ]
  },
  {
   "cell_type": "code",
   "execution_count": 1,
   "id": "fd43c720-aa77-440f-b5f8-ef833a0a9300",
   "metadata": {
    "tags": []
   },
   "outputs": [
    {
     "name": "stdout",
     "output_type": "stream",
     "text": [
      "Hello, world!\n"
     ]
    }
   ],
   "source": [
    "print(\"Hello, world!\")"
   ]
  },
  {
   "cell_type": "code",
   "execution_count": 2,
   "id": "790bd343-cd29-4946-8766-39791e524752",
   "metadata": {
    "tags": []
   },
   "outputs": [
    {
     "data": {
      "text/plain": [
       "2"
      ]
     },
     "execution_count": 2,
     "metadata": {},
     "output_type": "execute_result"
    }
   ],
   "source": [
    "1+1"
   ]
  },
  {
   "cell_type": "code",
   "execution_count": 3,
   "id": "1d215a3c-06df-4527-ad7d-f814290b9284",
   "metadata": {
    "tags": []
   },
   "outputs": [
    {
     "data": {
      "text/plain": [
       "6.0"
      ]
     },
     "execution_count": 3,
     "metadata": {},
     "output_type": "execute_result"
    }
   ],
   "source": [
    "3 * 10 / (7-2)"
   ]
  },
  {
   "cell_type": "code",
   "execution_count": 4,
   "id": "4b28338e-8bcd-4eda-9718-6f92e0b03c58",
   "metadata": {
    "tags": []
   },
   "outputs": [
    {
     "name": "stdout",
     "output_type": "stream",
     "text": [
      "3\n"
     ]
    }
   ],
   "source": [
    "a = 3\n",
    "print(a)"
   ]
  },
  {
   "cell_type": "code",
   "execution_count": 5,
   "id": "68095152-e0da-4656-9458-53fc1f2d580b",
   "metadata": {
    "tags": []
   },
   "outputs": [
    {
     "name": "stdout",
     "output_type": "stream",
     "text": [
      "A happy new year 2025\n"
     ]
    }
   ],
   "source": [
    "y = 2025\n",
    "print(\"A happy new year\", y)"
   ]
  },
  {
   "cell_type": "code",
   "execution_count": 6,
   "id": "c631bf3f-af28-47dd-8591-8fbcb8be21d3",
   "metadata": {
    "tags": []
   },
   "outputs": [
    {
     "name": "stdout",
     "output_type": "stream",
     "text": [
      "6\n"
     ]
    }
   ],
   "source": [
    "a = 3\n",
    "a = 5\n",
    "b = 1\n",
    "print(a+b)"
   ]
  },
  {
   "cell_type": "code",
   "execution_count": 7,
   "id": "f62f7b07-50ee-4621-9505-95f3a2ece1da",
   "metadata": {
    "tags": []
   },
   "outputs": [
    {
     "name": "stdout",
     "output_type": "stream",
     "text": [
      "50\n",
      "55\n",
      "70\n",
      "65\n",
      "80\n"
     ]
    }
   ],
   "source": [
    "scores = [50, 55, 70, 65, 80]   # リスト型のデータを入力\n",
    "print(scores[0])\n",
    "print(scores[1])\n",
    "print(scores[2])\n",
    "print(scores[3])\n",
    "print(scores[4])"
   ]
  },
  {
   "cell_type": "code",
   "execution_count": 8,
   "id": "b2bf5fd8-4e9b-4d85-b4ae-9c68d73ae125",
   "metadata": {
    "tags": []
   },
   "outputs": [
    {
     "data": {
      "text/plain": [
       "5"
      ]
     },
     "execution_count": 8,
     "metadata": {},
     "output_type": "execute_result"
    }
   ],
   "source": [
    "len(scores)  # len()はリストの長さを返す関数"
   ]
  },
  {
   "cell_type": "code",
   "execution_count": 9,
   "id": "6a9937f2-a26b-4482-bf2b-1434276815f1",
   "metadata": {
    "tags": []
   },
   "outputs": [
    {
     "name": "stdout",
     "output_type": "stream",
     "text": [
      "[100, 55, 70, 65, 80]\n"
     ]
    }
   ],
   "source": [
    "scores[0] = 100\n",
    "print(scores)"
   ]
  },
  {
   "cell_type": "code",
   "execution_count": 10,
   "id": "1e26d09b-4d41-4f3a-a7c4-f3fb8c8944e6",
   "metadata": {
    "tags": []
   },
   "outputs": [
    {
     "data": {
      "text/plain": [
       "[100, 55, 70, 65, 80, 10, 20, 30]"
      ]
     },
     "execution_count": 10,
     "metadata": {},
     "output_type": "execute_result"
    }
   ],
   "source": [
    "scores2 = [10, 20, 30]\n",
    "scores + scores2    # 連結する"
   ]
  },
  {
   "cell_type": "code",
   "execution_count": 11,
   "id": "9384de89-29d8-4f8a-bb13-bf0d8f2d4900",
   "metadata": {
    "tags": []
   },
   "outputs": [
    {
     "data": {
      "text/plain": [
       "8"
      ]
     },
     "execution_count": 11,
     "metadata": {},
     "output_type": "execute_result"
    }
   ],
   "source": [
    "len(scores + scores2)  # 配列の長さ"
   ]
  },
  {
   "cell_type": "code",
   "execution_count": 12,
   "id": "0bf1060c-abbe-4891-841f-630a2143ce1b",
   "metadata": {
    "tags": []
   },
   "outputs": [
    {
     "name": "stdout",
     "output_type": "stream",
     "text": [
      "100\n",
      "55\n",
      "70\n",
      "65\n",
      "80\n"
     ]
    }
   ],
   "source": [
    "for i in [0, 1, 2, 3, 4]:\n",
    "    print(scores[i])"
   ]
  },
  {
   "cell_type": "code",
   "execution_count": 13,
   "id": "1e493e81-089e-46e6-9a9e-c337dad632ec",
   "metadata": {
    "tags": []
   },
   "outputs": [
    {
     "name": "stdout",
     "output_type": "stream",
     "text": [
      "100\n",
      "55\n",
      "70\n",
      "65\n",
      "80\n"
     ]
    }
   ],
   "source": [
    "for i in range(5):\n",
    "    print(scores[i])"
   ]
  },
  {
   "cell_type": "code",
   "execution_count": 14,
   "id": "d399362f-6d8d-4c8c-85bf-964fc9905eda",
   "metadata": {
    "tags": []
   },
   "outputs": [
    {
     "name": "stdout",
     "output_type": "stream",
     "text": [
      "ドラえもんはまだ誕生していません。\n"
     ]
    }
   ],
   "source": [
    "year = 2025\n",
    "\n",
    "if year < 2112:\n",
    "    print(\"ドラえもんはまだ誕生していません。\")\n",
    "else:\n",
    "    print(\"ドラえもんはもう誕生しています。\")"
   ]
  },
  {
   "cell_type": "code",
   "execution_count": 15,
   "id": "2f519ff4-4815-4625-970d-f6585c384ea9",
   "metadata": {
    "tags": []
   },
   "outputs": [
    {
     "data": {
      "text/plain": [
       "3.141592653589793"
      ]
     },
     "execution_count": 15,
     "metadata": {},
     "output_type": "execute_result"
    }
   ],
   "source": [
    "import math  # mathモジュールを読み込む\n",
    "math.pi"
   ]
  },
  {
   "cell_type": "code",
   "execution_count": 16,
   "id": "e538d01b-89c4-4015-bb85-5b44505fdeb1",
   "metadata": {
    "tags": []
   },
   "outputs": [
    {
     "data": {
      "text/plain": [
       "'3.141593'"
      ]
     },
     "execution_count": 16,
     "metadata": {},
     "output_type": "execute_result"
    }
   ],
   "source": [
    "format(math.pi, '.6f')  #小数点以下6位"
   ]
  },
  {
   "cell_type": "code",
   "execution_count": 17,
   "id": "52d94201-5bed-4c43-9dcf-3a4f2a1fdd3c",
   "metadata": {
    "tags": []
   },
   "outputs": [
    {
     "data": {
      "text/plain": [
       "-1.0"
      ]
     },
     "execution_count": 17,
     "metadata": {},
     "output_type": "execute_result"
    }
   ],
   "source": [
    "math.cos(math.pi)  # cos(π)の値を求める"
   ]
  },
  {
   "cell_type": "markdown",
   "id": "13950f0d-724c-46ac-9225-1d9c6414344b",
   "metadata": {},
   "source": [
    "# 2. Pythonによる作図\n",
    "[Matplotlibに2通りある描画の流儀](https://moromisenpy.com/python_plot/)のうち、難しいオブジェクト指向（ax.~）は使わない、易しい方の流儀で統一します。"
   ]
  },
  {
   "cell_type": "markdown",
   "id": "d40f144d-e5c6-482c-b4e2-29a30c592eba",
   "metadata": {},
   "source": [
    "## 基本のグラフ（折れ線グラフ、散布図、ヒストグラム）"
   ]
  },
  {
   "cell_type": "code",
   "execution_count": 18,
   "id": "0691002e-051d-44f4-9844-826111fd587f",
   "metadata": {},
   "outputs": [
    {
     "data": {
      "text/plain": [
       "[<matplotlib.lines.Line2D at 0x1edbe783110>]"
      ]
     },
     "execution_count": 18,
     "metadata": {},
     "output_type": "execute_result"
    },
    {
     "data": {
      "image/png": "[encoded data removed]",
      "text/plain": [
       "<Figure size 640x480 with 1 Axes>"
      ]
     },
     "metadata": {},
     "output_type": "display_data"
    }
   ],
   "source": [
    "import matplotlib.pyplot as plt\n",
    "\n",
    "# 折れ線グラフ\n",
    "x = [1, 2, 3]\n",
    "y = [3, 1, 2]\n",
    "plt.plot(x, y)"
   ]
  },
  {
   "cell_type": "code",
   "execution_count": 19,
   "id": "89d9f443-8b32-475c-b47f-e219670bcb53",
   "metadata": {},
   "outputs": [
    {
     "data": {
      "text/plain": [
       "<matplotlib.collections.PathCollection at 0x1edbe865be0>"
      ]
     },
     "execution_count": 19,
     "metadata": {},
     "output_type": "execute_result"
    },
    {
     "data": {
      "image/png": "[encoded data removed]",
      "text/plain": [
       "<Figure size 640x480 with 1 Axes>"
      ]
     },
     "metadata": {},
     "output_type": "display_data"
    }
   ],
   "source": [
    "# 散布図\n",
    "x = [1, 2, 3]\n",
    "y = [3, 1, 2]\n",
    "plt.scatter(x, y)"
   ]
  },
  {
   "cell_type": "code",
   "execution_count": 20,
   "id": "eb14959c-8f9d-4c0c-9d6b-aa2f72aada68",
   "metadata": {},
   "outputs": [
    {
     "data": {
      "text/plain": [
       "(array([1., 2., 1., 2., 1.]),\n",
       " array([0.5, 1.5, 2.5, 3.5, 4.5, 5.5]),\n",
       " <BarContainer object of 5 artists>)"
      ]
     },
     "execution_count": 20,
     "metadata": {},
     "output_type": "execute_result"
    },
    {
     "data": {
      "image/png": "[encoded data removed]",
      "text/plain": [
       "<Figure size 640x480 with 1 Axes>"
      ]
     },
     "metadata": {},
     "output_type": "display_data"
    }
   ],
   "source": [
    "# ヒストグラム\n",
    "z = [1, 2, 2, 3, 4, 4, 5]\n",
    "plt.hist(z, range=(0.5, 5.5), bins=5)"
   ]
  }
 ],
 "metadata": {
  "kernelspec": {
   "display_name": "Python 3 (ipykernel)",
   "language": "python",
   "name": "python3"
  },
  "language_info": {
   "codemirror_mode": {
    "name": "ipython",
    "version": 3
   },
   "file_extension": ".py",
   "mimetype": "text/x-python",
   "name": "python",
   "nbconvert_exporter": "python",
   "pygments_lexer": "ipython3",
   "version": "3.13.7"
  }
 },
 "nbformat": 4,
 "nbformat_minor": 5
}
